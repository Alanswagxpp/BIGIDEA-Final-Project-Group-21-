{
 "cells": [
  {
   "cell_type": "markdown",
   "metadata": {},
   "source": [
    "# The Best Neighborhood in Pittsburgh: Halloween Trick-or-Treating\n",
    "## This neighborhood... \n",
    "* has the best sense of community\n",
    "* great for families and children\n",
    "* will provide the highest volume/best quality candy\n",
    "* is very walkable"
   ]
  },
  {
   "cell_type": "markdown",
   "metadata": {},
   "source": [
    "### Submetric 1: Homeownership"
   ]
  },
  {
   "cell_type": "markdown",
   "metadata": {},
   "source": [
    "Find the neighborhood with higher volume of property owners.  \n",
    "1. Owning property is characteristic of settling down  \n",
    "2. Majority of homeowners are 33+ (typical age of parents)  \n",
    "&nbsp;&nbsp;&nbsp;&nbsp;&nbsp;&nbsp;a. important to eliminate neighborhoods with large amounts of college students\n",
    "  \n",
    "GOAL: Find the neighborhood with the best Halloween candy selection."
   ]
  },
  {
   "cell_type": "markdown",
   "metadata": {},
   "source": [
    "#### Import libraries and read in data"
   ]
  },
  {
   "cell_type": "code",
   "execution_count": 2,
   "metadata": {},
   "outputs": [],
   "source": [
    "import pandas as pd\n",
    "import numpy as np\n",
    "homeownership = pd.read_csv(\"Homeownership.csv\")\n",
    "neighborhood = pd.read_csv(\"neighborhood.csv\")"
   ]
  },
  {
   "cell_type": "markdown",
   "metadata": {},
   "source": [
    "#### Check data types of dataframes"
   ]
  },
  {
   "cell_type": "code",
   "execution_count": 3,
   "metadata": {},
   "outputs": [
    {
     "name": "stdout",
     "output_type": "stream",
     "text": [
      "homeownership dftypes BEFORE\n",
      " Census Tract       float64\n",
      "TotalPopulation     object\n",
      "OwnedMortgage       object\n",
      "OwnedFree           object\n",
      "RenterOccupied      object\n",
      "dtype: object\n",
      "\n",
      "neighborhood dtype BEFORE : object\n"
     ]
    }
   ],
   "source": [
    "print(\"homeownership dftypes BEFORE\\n\",homeownership.dtypes)\n",
    "print(\"\\nneighborhood dtype BEFORE :\", neighborhood['tractce10'].dtype)"
   ]
  },
  {
   "cell_type": "markdown",
   "metadata": {},
   "source": [
    "#### -> Format homeownership data to be numeric"
   ]
  },
  {
   "cell_type": "code",
   "execution_count": 4,
   "metadata": {},
   "outputs": [],
   "source": [
    "# fix types to be numeric\n",
    "homeownership[['TotalPopulation','OwnedMortgage','OwnedFree','RenterOccupied']]\\\n",
    "= homeownership.apply(lambda x: x[['TotalPopulation','OwnedMortgage','OwnedFree','RenterOccupied']].str.replace(',','').astype(float), axis=1)"
   ]
  },
  {
   "cell_type": "markdown",
   "metadata": {},
   "source": [
    "#### -> Format neighborhood data to be numeric"
   ]
  },
  {
   "cell_type": "code",
   "execution_count": 5,
   "metadata": {},
   "outputs": [],
   "source": [
    "# utilize Pandas Series to convert all elements into one datatype\n",
    "census_tract = pd.Series(neighborhood.iloc[:,4]) # index 4 is tractce10 column\n",
    "\n",
    "for i in range(len(census_tract)):\n",
    "    string = census_tract[i]\n",
    "    # if not empty string\n",
    "    if (string != ''):\n",
    "        firstChar = string[0]\n",
    "        try:\n",
    "            float(firstChar)\n",
    "            # if the firstChar is a number that starts with 0 as a placeholder (e.g., 024500)\n",
    "            if (firstChar == '0' and len(string) > 1):\n",
    "                # remove the first character\n",
    "                string = string[1:]\n",
    "            # remove extra zeros at the end\n",
    "            census_tract[i] = string[0:len(string)-2]\n",
    "            \n",
    "        # first char cannot be converted to a float\n",
    "        except ValueError:\n",
    "            census_tract[i] = 0\n",
    "    \n",
    "    # if empty string\n",
    "    else:\n",
    "        census_tract[i] = 0\n",
    "# end of for loop\n",
    "\n",
    "# create dataframe and cast elements to float\n",
    "census_tracts_mapping = pd.DataFrame(census_tract).astype(float, errors = 'raise')"
   ]
  },
  {
   "cell_type": "markdown",
   "metadata": {},
   "source": [
    "#### Check data types (again)"
   ]
  },
  {
   "cell_type": "code",
   "execution_count": 6,
   "metadata": {},
   "outputs": [
    {
     "name": "stdout",
     "output_type": "stream",
     "text": [
      "homeownership dftypes AFTER\n",
      " Census Tract       float64\n",
      "TotalPopulation    float64\n",
      "OwnedMortgage      float64\n",
      "OwnedFree          float64\n",
      "RenterOccupied     float64\n",
      "dtype: object\n",
      "\n",
      "dtype neighborhood dtype AFTER: float64\n"
     ]
    }
   ],
   "source": [
    "print(\"homeownership dftypes AFTER\\n\",homeownership.dtypes)\n",
    "print(\"\\ndtype neighborhood dtype AFTER:\", census_tracts_mapping['tractce10'].dtypes)"
   ]
  },
  {
   "cell_type": "markdown",
   "metadata": {},
   "source": [
    "#### Find total number of homeowners (payed mortgage + making payments at time of census)"
   ]
  },
  {
   "cell_type": "code",
   "execution_count": 7,
   "metadata": {},
   "outputs": [],
   "source": [
    "# sum OwnedMortgage and OwnedFree columns\n",
    "homeowners = homeownership['OwnedMortgage'] + homeownership['OwnedFree']"
   ]
  },
  {
   "cell_type": "markdown",
   "metadata": {},
   "source": [
    "#### Calculate ratio of homeowners to renters in each census tract"
   ]
  },
  {
   "cell_type": "code",
   "execution_count": 8,
   "metadata": {},
   "outputs": [],
   "source": [
    "# find ratio of homeowners to renters\n",
    "ratioSettled2Renting = homeowners/homeownership['RenterOccupied']"
   ]
  },
  {
   "cell_type": "markdown",
   "metadata": {},
   "source": [
    "#### Create a new dataframe"
   ]
  },
  {
   "cell_type": "code",
   "execution_count": 9,
   "metadata": {},
   "outputs": [
    {
     "data": {
      "text/html": [
       "<div>\n",
       "<style scoped>\n",
       "    .dataframe tbody tr th:only-of-type {\n",
       "        vertical-align: middle;\n",
       "    }\n",
       "\n",
       "    .dataframe tbody tr th {\n",
       "        vertical-align: top;\n",
       "    }\n",
       "\n",
       "    .dataframe thead th {\n",
       "        text-align: right;\n",
       "    }\n",
       "</style>\n",
       "<table border=\"1\" class=\"dataframe\">\n",
       "  <thead>\n",
       "    <tr style=\"text-align: right;\">\n",
       "      <th></th>\n",
       "      <th>Census Tract</th>\n",
       "      <th>Settled/renting</th>\n",
       "      <th>TotalPopulation</th>\n",
       "    </tr>\n",
       "  </thead>\n",
       "  <tbody>\n",
       "    <tr>\n",
       "      <th>152</th>\n",
       "      <td>4268.00</td>\n",
       "      <td>43.741667</td>\n",
       "      <td>5369.0</td>\n",
       "    </tr>\n",
       "    <tr>\n",
       "      <th>244</th>\n",
       "      <td>4753.03</td>\n",
       "      <td>33.151261</td>\n",
       "      <td>4064.0</td>\n",
       "    </tr>\n",
       "    <tr>\n",
       "      <th>384</th>\n",
       "      <td>5641.00</td>\n",
       "      <td>32.923077</td>\n",
       "      <td>882.0</td>\n",
       "    </tr>\n",
       "    <tr>\n",
       "      <th>122</th>\n",
       "      <td>4100.00</td>\n",
       "      <td>30.648649</td>\n",
       "      <td>1171.0</td>\n",
       "    </tr>\n",
       "    <tr>\n",
       "      <th>237</th>\n",
       "      <td>4742.01</td>\n",
       "      <td>28.545455</td>\n",
       "      <td>2600.0</td>\n",
       "    </tr>\n",
       "    <tr>\n",
       "      <th>239</th>\n",
       "      <td>4742.03</td>\n",
       "      <td>27.306250</td>\n",
       "      <td>4529.0</td>\n",
       "    </tr>\n",
       "    <tr>\n",
       "      <th>125</th>\n",
       "      <td>4120.02</td>\n",
       "      <td>26.331461</td>\n",
       "      <td>4865.0</td>\n",
       "    </tr>\n",
       "    <tr>\n",
       "      <th>318</th>\n",
       "      <td>5190.00</td>\n",
       "      <td>23.680328</td>\n",
       "      <td>3011.0</td>\n",
       "    </tr>\n",
       "    <tr>\n",
       "      <th>149</th>\n",
       "      <td>4263.00</td>\n",
       "      <td>22.647059</td>\n",
       "      <td>6030.0</td>\n",
       "    </tr>\n",
       "    <tr>\n",
       "      <th>130</th>\n",
       "      <td>4134.00</td>\n",
       "      <td>21.978610</td>\n",
       "      <td>4297.0</td>\n",
       "    </tr>\n",
       "  </tbody>\n",
       "</table>\n",
       "</div>"
      ],
      "text/plain": [
       "     Census Tract  Settled/renting  TotalPopulation\n",
       "152       4268.00        43.741667           5369.0\n",
       "244       4753.03        33.151261           4064.0\n",
       "384       5641.00        32.923077            882.0\n",
       "122       4100.00        30.648649           1171.0\n",
       "237       4742.01        28.545455           2600.0\n",
       "239       4742.03        27.306250           4529.0\n",
       "125       4120.02        26.331461           4865.0\n",
       "318       5190.00        23.680328           3011.0\n",
       "149       4263.00        22.647059           6030.0\n",
       "130       4134.00        21.978610           4297.0"
      ]
     },
     "execution_count": 9,
     "metadata": {},
     "output_type": "execute_result"
    }
   ],
   "source": [
    "# create new dataframe\n",
    "ratio = pd.DataFrame(ratioSettled2Renting, columns=[\"Settled/renting\"])\n",
    "census_tracts = pd.DataFrame(homeownership['Census Tract'])\n",
    "population = pd.DataFrame(homeownership['TotalPopulation'])\n",
    "my_df = census_tracts.join(ratio).join(population)\n",
    "\n",
    "# SORT & FILTER\n",
    "my_dfsorted = my_df.sort_values(by=['Settled/renting'], ascending=False)\n",
    "my_dfFiltered = my_dfsorted[my_dfsorted['TotalPopulation'] >= 500]\n",
    "\n",
    "my_dfFiltered.head(10)"
   ]
  },
  {
   "cell_type": "markdown",
   "metadata": {},
   "source": [
    "#### Map census tract to neighborhood via neighborhood.csv\n",
    "##### Filter out Allegheny census tracts that are not City of Pittsburgh census tracts."
   ]
  },
  {
   "cell_type": "code",
   "execution_count": 10,
   "metadata": {},
   "outputs": [],
   "source": [
    "# list of 90 census tracts mapped to city of Pittsburgh neighborhood\n",
    "city_of_pgh_cetracts = census_tracts_mapping['tractce10']\n",
    "# list of census tracts included in the homeowners dataset for allegheny county\n",
    "allegheny_cetracts = my_dfFiltered['Census Tract']\n",
    "# create a dictionary of city of pgh census tract -> city of pgh neighborhood\n",
    "neighborhood.rename(columns = {\"hood\":\"Neighborhood\"}, inplace = True)\n",
    "dict = {'census tract': city_of_pgh_cetracts, 'pgh neighborhood': neighborhood[\"Neighborhood\"]}\n",
    "dict = pd.DataFrame(dict)\n",
    "\n",
    "best_tracts_pgh = [0]*len(allegheny_cetracts)\n",
    "best_nbhds= []\n",
    "best_match = 6000\n",
    "limit = 5 # ensure we find the closest census tracts to represent the neighborhood \n",
    "cnt = 0\n",
    "# loop through allegheny census tracts\n",
    "for i in allegheny_cetracts:\n",
    "    best_match = 6000\n",
    "    # loop through all 90 pgh cetracts\n",
    "    for j in city_of_pgh_cetracts:\n",
    "        best_tracts_pgh[cnt] = 0\n",
    "        diff = i - j\n",
    "        # if diff is 0 then we found the neighborhood\n",
    "        if diff == 0:\n",
    "            # add i to best_tracts_pgh\n",
    "            best_tracts_pgh[cnt] = j\n",
    "            break \n",
    "        elif abs(diff) < best_match and abs(diff) < limit:\n",
    "            best_match = diff\n",
    "            best_tracts_pgh[cnt] = j\n",
    "    cnt = cnt + 1"
   ]
  },
  {
   "cell_type": "markdown",
   "metadata": {},
   "source": [
    "#### Retrieve the top ten neighborhoods"
   ]
  },
  {
   "cell_type": "code",
   "execution_count": 11,
   "metadata": {},
   "outputs": [
    {
     "data": {
      "text/html": [
       "<div>\n",
       "<style scoped>\n",
       "    .dataframe tbody tr th:only-of-type {\n",
       "        vertical-align: middle;\n",
       "    }\n",
       "\n",
       "    .dataframe tbody tr th {\n",
       "        vertical-align: top;\n",
       "    }\n",
       "\n",
       "    .dataframe thead th {\n",
       "        text-align: right;\n",
       "    }\n",
       "</style>\n",
       "<table border=\"1\" class=\"dataframe\">\n",
       "  <thead>\n",
       "    <tr style=\"text-align: right;\">\n",
       "      <th></th>\n",
       "      <th>Neighborhood</th>\n",
       "    </tr>\n",
       "  </thead>\n",
       "  <tbody>\n",
       "    <tr>\n",
       "      <th>0</th>\n",
       "      <td>New Homestead</td>\n",
       "    </tr>\n",
       "    <tr>\n",
       "      <th>1</th>\n",
       "      <td>Stanton Heights</td>\n",
       "    </tr>\n",
       "    <tr>\n",
       "      <th>2</th>\n",
       "      <td>Lincoln Place</td>\n",
       "    </tr>\n",
       "    <tr>\n",
       "      <th>3</th>\n",
       "      <td>Swisshelm Park</td>\n",
       "    </tr>\n",
       "    <tr>\n",
       "      <th>4</th>\n",
       "      <td>Overbrook</td>\n",
       "    </tr>\n",
       "    <tr>\n",
       "      <th>5</th>\n",
       "      <td>Summer Hill</td>\n",
       "    </tr>\n",
       "    <tr>\n",
       "      <th>6</th>\n",
       "      <td>Regent Square</td>\n",
       "    </tr>\n",
       "    <tr>\n",
       "      <th>7</th>\n",
       "      <td>Brookline</td>\n",
       "    </tr>\n",
       "    <tr>\n",
       "      <th>8</th>\n",
       "      <td>Squirrel Hill North</td>\n",
       "    </tr>\n",
       "    <tr>\n",
       "      <th>9</th>\n",
       "      <td>Brighton Heights</td>\n",
       "    </tr>\n",
       "  </tbody>\n",
       "</table>\n",
       "</div>"
      ],
      "text/plain": [
       "          Neighborhood\n",
       "0        New Homestead\n",
       "1      Stanton Heights\n",
       "2        Lincoln Place\n",
       "3       Swisshelm Park\n",
       "4            Overbrook\n",
       "5          Summer Hill\n",
       "6        Regent Square\n",
       "7            Brookline\n",
       "8  Squirrel Hill North\n",
       "9     Brighton Heights"
      ]
     },
     "execution_count": 11,
     "metadata": {},
     "output_type": "execute_result"
    }
   ],
   "source": [
    "for w in best_tracts_pgh:\n",
    "    index = 0\n",
    "    if (w!=0):\n",
    "        for p in dict['census tract']:\n",
    "            if (w==p):\n",
    "                best_nbhds.append(dict['pgh neighborhood'][index])\n",
    "                break\n",
    "            index = index + 1\n",
    "                \n",
    "best_nbhds_homeownership = pd.DataFrame(best_nbhds)\n",
    "best_nbhds_homeownership.columns = ['Neighborhood']\n",
    "best_nbhds_homeownership.head(10)     "
   ]
  },
  {
   "cell_type": "markdown",
   "metadata": {},
   "source": [
    "### Submetric 2:"
   ]
  },
  {
   "cell_type": "markdown",
   "metadata": {},
   "source": [
    "description：In my part, I analyzed the number of playgrounds in Pittsburgh differnt neighborhood\n"
   ]
  },
  {
   "cell_type": "code",
   "execution_count": 12,
   "metadata": {},
   "outputs": [],
   "source": [
    "#Imports\n",
    "import pandas as pd\n",
    "import numpy as np\n",
    "import math\n",
    "%matplotlib inline\n",
    "import matplotlib.pyplot as plt"
   ]
  },
  {
   "cell_type": "markdown",
   "metadata": {},
   "source": [
    "#### First, read the original csv file using pandas.（"
   ]
  },
  {
   "cell_type": "code",
   "execution_count": 13,
   "metadata": {},
   "outputs": [
    {
     "data": {
      "text/plain": [
       "0                Beechview\n",
       "1         Crawford-Roberts\n",
       "2        Central Northside\n",
       "3                Beechview\n",
       "4        Bedford Dwellings\n",
       "              ...         \n",
       "120                Carrick\n",
       "121    Upper Lawrenceville\n",
       "122            Beltzhoover\n",
       "123           East Liberty\n",
       "124         East Allegheny\n",
       "Name: neighborhood, Length: 125, dtype: object"
      ]
     },
     "execution_count": 13,
     "metadata": {},
     "output_type": "execute_result"
    }
   ],
   "source": [
    "playground = pd.read_csv(\"Playground.csv\")\n",
    "# playground\n",
    "playground[\"neighborhood\"]"
   ]
  },
  {
   "cell_type": "markdown",
   "metadata": {},
   "source": [
    "#### Then I created a dictionary myDictionary to store only neighborhood coloumn in the generated playground series, and add its number if they are in the same neighborhood"
   ]
  },
  {
   "cell_type": "code",
   "execution_count": 14,
   "metadata": {},
   "outputs": [
    {
     "data": {
      "text/plain": [
       "{'Beechview': 5,\n",
       " 'Crawford-Roberts': 3,\n",
       " 'Central Northside': 2,\n",
       " 'Bedford Dwellings': 1,\n",
       " 'South Side Slopes': 5,\n",
       " 'South Side Flats': 2,\n",
       " 'Lower Lawrenceville': 1,\n",
       " 'Banksville': 1,\n",
       " 'Homewood North': 1,\n",
       " 'Bon Air': 1,\n",
       " 'Central Oakland': 1,\n",
       " 'Brighton Heights': 2,\n",
       " 'Brookline': 2,\n",
       " 'Hazelwood': 3,\n",
       " 'Squirrel Hill South': 8,\n",
       " 'Spring Garden': 1,\n",
       " 'Lincoln-Lemington-Belmar': 2,\n",
       " 'Windgap': 1,\n",
       " 'Troy Hill': 2,\n",
       " 'Westwood': 1,\n",
       " 'Perry South': 1,\n",
       " 'Homewood West': 1,\n",
       " 'Allegheny Center': 4,\n",
       " 'Strip District': 1,\n",
       " 'Stanton Heights': 1,\n",
       " 'Crafton Heights': 2,\n",
       " 'West Oakland': 1,\n",
       " 'East Carnegie': 1,\n",
       " 'Duquesne Heights': 1,\n",
       " 'East Liberty': 3,\n",
       " 'Esplen': 1,\n",
       " 'Fairywood': 1,\n",
       " 'Highland Park': 4,\n",
       " 'Upper Lawrenceville': 3,\n",
       " 'Fineview': 1,\n",
       " 'Regent Square': 1,\n",
       " 'Garfield': 2,\n",
       " 'Greenfield': 2,\n",
       " 'South Oakland': 3,\n",
       " 'Allentown': 1,\n",
       " 'Hays': 1,\n",
       " 'Elliott': 3,\n",
       " 'Morningside': 2,\n",
       " 'Terrace Village': 1,\n",
       " 'Larimer': 1,\n",
       " 'Carrick': 3,\n",
       " 'Central Lawrenceville': 1,\n",
       " 'Lincoln Place': 2,\n",
       " 'Manchester': 2,\n",
       " 'Marshall-Shadeland': 2,\n",
       " 'Sheraden': 4,\n",
       " 'Beltzhoover': 4,\n",
       " 'Shadyside': 1,\n",
       " 'Mount Washington': 3,\n",
       " 'Oakwood': 1,\n",
       " 'Bloomfield': 2,\n",
       " 'Perry North': 1,\n",
       " 'Upper Hill': 1,\n",
       " 'New Homestead': 1,\n",
       " 'Spring Hill-City View': 1,\n",
       " 'Swisshelm Park': 1,\n",
       " 'Bluff': 1,\n",
       " 'Middle Hill': 1,\n",
       " 'West End': 1,\n",
       " 'Polish Hill': 1,\n",
       " 'Point Breeze North': 1,\n",
       " 'Squirrel Hill North': 1,\n",
       " 'East Allegheny': 1}"
      ]
     },
     "execution_count": 14,
     "metadata": {},
     "output_type": "execute_result"
    }
   ],
   "source": [
    "myDictionary = {}\n",
    "for i in range(len(playground)):\n",
    "    temp = playground.loc[i,\"neighborhood\"]\n",
    "    if(temp not in myDictionary):\n",
    "       myDictionary[temp] = 1\n",
    "    else:\n",
    "       myDictionary[temp] += 1\n",
    "       \n",
    "# print(myDictionary)\n",
    "myDictionary"
   ]
  },
  {
   "cell_type": "markdown",
   "metadata": {},
   "source": [
    "#### But it is easier for me to plot a graph with Series rather than dictionary. So here I converted this dictionary back to Series.\n",
    "\n"
   ]
  },
  {
   "cell_type": "code",
   "execution_count": 15,
   "metadata": {},
   "outputs": [
    {
     "data": {
      "text/plain": [
       "Beechview              5\n",
       "Crawford-Roberts       3\n",
       "Central Northside      2\n",
       "Bedford Dwellings      1\n",
       "South Side Slopes      5\n",
       "                      ..\n",
       "West End               1\n",
       "Polish Hill            1\n",
       "Point Breeze North     1\n",
       "Squirrel Hill North    1\n",
       "East Allegheny         1\n",
       "Name: Fields, Length: 68, dtype: int64"
      ]
     },
     "execution_count": 15,
     "metadata": {},
     "output_type": "execute_result"
    }
   ],
   "source": [
    "playGroundSeries = pd.Series(myDictionary, name = \"Fields\")\n",
    "playGroundSeries"
   ]
  },
  {
   "cell_type": "markdown",
   "metadata": {},
   "source": [
    "#### And since the dataframe is too much, and many of them(neighborhood) only has 1 playground(duplicates). And since we only need the largest number of data, so I decided take the \"top30\" number of playground in Pittsburgh. and display them"
   ]
  },
  {
   "cell_type": "code",
   "execution_count": 16,
   "metadata": {},
   "outputs": [
    {
     "data": {
      "text/plain": [
       "Squirrel Hill South         8\n",
       "Beechview                   5\n",
       "South Side Slopes           5\n",
       "Highland Park               4\n",
       "Sheraden                    4\n",
       "Beltzhoover                 4\n",
       "Allegheny Center            4\n",
       "Carrick                     3\n",
       "Mount Washington            3\n",
       "Elliott                     3\n",
       "South Oakland               3\n",
       "Hazelwood                   3\n",
       "Crawford-Roberts            3\n",
       "Upper Lawrenceville         3\n",
       "East Liberty                3\n",
       "Morningside                 2\n",
       "Lincoln Place               2\n",
       "Greenfield                  2\n",
       "Garfield                    2\n",
       "Manchester                  2\n",
       "Central Northside           2\n",
       "Marshall-Shadeland          2\n",
       "South Side Flats            2\n",
       "Crafton Heights             2\n",
       "Lincoln-Lemington-Belmar    2\n",
       "Bloomfield                  2\n",
       "Brighton Heights            2\n",
       "Brookline                   2\n",
       "Troy Hill                   2\n",
       "Oakwood                     1\n",
       "Name: Fields, dtype: int64"
      ]
     },
     "execution_count": 16,
     "metadata": {},
     "output_type": "execute_result"
    }
   ],
   "source": [
    "# First sort this series with descending order(Ascending = False)\n",
    "SeriesInDescendingOrder=playGroundSeries.sort_values(ascending=False).head(30)\n",
    "SeriesInDescendingOrder"
   ]
  },
  {
   "cell_type": "markdown",
   "metadata": {},
   "source": [
    "#### display our sorted dataframe by bar graph"
   ]
  },
  {
   "cell_type": "code",
   "execution_count": 17,
   "metadata": {},
   "outputs": [
    {
     "data": {
      "text/plain": [
       "<AxesSubplot: >"
      ]
     },
     "execution_count": 17,
     "metadata": {},
     "output_type": "execute_result"
    },
    {
     "data": {
      "image/png": "[encoded data removed]",
      "text/plain": [
       "<Figure size 640x480 with 1 Axes>"
      ]
     },
     "metadata": {},
     "output_type": "display_data"
    }
   ],
   "source": [
    "SeriesInDescendingOrder\n",
    "SeriesInDescendingOrder.plot.bar()"
   ]
  },
  {
   "cell_type": "markdown",
   "metadata": {},
   "source": [
    "### From this graph we can easily see the Squirrel Hill South has the most playgrounds, 8 playgrounds, in Pittsburgh area. And Beechview, South Side Slopes fllow as the second most"
   ]
  },
  {
   "cell_type": "markdown",
   "metadata": {},
   "source": [
    "### Submetric 3: "
   ]
  },
  {
   "cell_type": "markdown",
   "metadata": {},
   "source": [
    "description"
   ]
  },
  {
   "cell_type": "markdown",
   "metadata": {},
   "source": [
    "### Combining submetrics"
   ]
  },
  {
   "cell_type": "markdown",
   "metadata": {},
   "source": [
    "***Homeownership:***  \n",
    "* 5 points for top 5 neighborhoods\n",
    "* 4 points for the following 10 nbhds\n",
    "* 3 for next 15\n",
    "* 2 for next 20\n",
    "* 1 point for the rest\n",
    "  \n",
    "***Playground:***    \n",
    "* 5 points for neighborhoods with more than 3 playgrounds\n",
    "* 4 points for nbhds with 2 playgrounds\n",
    "* 3 points for nbhds with 1 playground\n",
    "  \n",
    "***Walkability:***   \n",
    "* 3 points for top 10 neighborhoods\n",
    "* 2 points for the next 20\n",
    "* 1 points for the rest"
   ]
  },
  {
   "cell_type": "code",
   "execution_count": 18,
   "metadata": {},
   "outputs": [
    {
     "data": {
      "text/html": [
       "<div>\n",
       "<style scoped>\n",
       "    .dataframe tbody tr th:only-of-type {\n",
       "        vertical-align: middle;\n",
       "    }\n",
       "\n",
       "    .dataframe tbody tr th {\n",
       "        vertical-align: top;\n",
       "    }\n",
       "\n",
       "    .dataframe thead th {\n",
       "        text-align: right;\n",
       "    }\n",
       "</style>\n",
       "<table border=\"1\" class=\"dataframe\">\n",
       "  <thead>\n",
       "    <tr style=\"text-align: right;\">\n",
       "      <th></th>\n",
       "      <th>Points</th>\n",
       "    </tr>\n",
       "    <tr>\n",
       "      <th>Neighborhood</th>\n",
       "      <th></th>\n",
       "    </tr>\n",
       "  </thead>\n",
       "  <tbody>\n",
       "    <tr>\n",
       "      <th>New Homestead</th>\n",
       "      <td>5</td>\n",
       "    </tr>\n",
       "    <tr>\n",
       "      <th>Stanton Heights</th>\n",
       "      <td>5</td>\n",
       "    </tr>\n",
       "    <tr>\n",
       "      <th>Overbrook</th>\n",
       "      <td>5</td>\n",
       "    </tr>\n",
       "    <tr>\n",
       "      <th>Swisshelm Park</th>\n",
       "      <td>5</td>\n",
       "    </tr>\n",
       "    <tr>\n",
       "      <th>Lincoln Place</th>\n",
       "      <td>5</td>\n",
       "    </tr>\n",
       "    <tr>\n",
       "      <th>Summer Hill</th>\n",
       "      <td>4</td>\n",
       "    </tr>\n",
       "    <tr>\n",
       "      <th>Westwood</th>\n",
       "      <td>4</td>\n",
       "    </tr>\n",
       "    <tr>\n",
       "      <th>Brookline</th>\n",
       "      <td>4</td>\n",
       "    </tr>\n",
       "    <tr>\n",
       "      <th>Squirrel Hill North</th>\n",
       "      <td>4</td>\n",
       "    </tr>\n",
       "    <tr>\n",
       "      <th>Beltzhoover</th>\n",
       "      <td>4</td>\n",
       "    </tr>\n",
       "    <tr>\n",
       "      <th>Morningside</th>\n",
       "      <td>4</td>\n",
       "    </tr>\n",
       "    <tr>\n",
       "      <th>Brighton Heights</th>\n",
       "      <td>4</td>\n",
       "    </tr>\n",
       "    <tr>\n",
       "      <th>Carrick</th>\n",
       "      <td>4</td>\n",
       "    </tr>\n",
       "    <tr>\n",
       "      <th>Regent Square</th>\n",
       "      <td>4</td>\n",
       "    </tr>\n",
       "    <tr>\n",
       "      <th>Spring Garden</th>\n",
       "      <td>4</td>\n",
       "    </tr>\n",
       "    <tr>\n",
       "      <th>Mt. Oliver</th>\n",
       "      <td>3</td>\n",
       "    </tr>\n",
       "    <tr>\n",
       "      <th>Greenfield</th>\n",
       "      <td>3</td>\n",
       "    </tr>\n",
       "    <tr>\n",
       "      <th>Spring Hill-City View</th>\n",
       "      <td>3</td>\n",
       "    </tr>\n",
       "    <tr>\n",
       "      <th>Polish Hill</th>\n",
       "      <td>3</td>\n",
       "    </tr>\n",
       "    <tr>\n",
       "      <th>Hays</th>\n",
       "      <td>3</td>\n",
       "    </tr>\n",
       "    <tr>\n",
       "      <th>Beechview</th>\n",
       "      <td>3</td>\n",
       "    </tr>\n",
       "    <tr>\n",
       "      <th>Fairywood</th>\n",
       "      <td>3</td>\n",
       "    </tr>\n",
       "    <tr>\n",
       "      <th>Arlington Heights</th>\n",
       "      <td>3</td>\n",
       "    </tr>\n",
       "    <tr>\n",
       "      <th>Squirrel Hill South</th>\n",
       "      <td>3</td>\n",
       "    </tr>\n",
       "    <tr>\n",
       "      <th>Upper Hill</th>\n",
       "      <td>3</td>\n",
       "    </tr>\n",
       "    <tr>\n",
       "      <th>Duquesne Heights</th>\n",
       "      <td>3</td>\n",
       "    </tr>\n",
       "    <tr>\n",
       "      <th>Oakwood</th>\n",
       "      <td>3</td>\n",
       "    </tr>\n",
       "    <tr>\n",
       "      <th>Banksville</th>\n",
       "      <td>3</td>\n",
       "    </tr>\n",
       "    <tr>\n",
       "      <th>Mount Washington</th>\n",
       "      <td>3</td>\n",
       "    </tr>\n",
       "    <tr>\n",
       "      <th>Sheraden</th>\n",
       "      <td>3</td>\n",
       "    </tr>\n",
       "  </tbody>\n",
       "</table>\n",
       "</div>"
      ],
      "text/plain": [
       "                       Points\n",
       "Neighborhood                 \n",
       "New Homestead               5\n",
       "Stanton Heights             5\n",
       "Overbrook                   5\n",
       "Swisshelm Park              5\n",
       "Lincoln Place               5\n",
       "Summer Hill                 4\n",
       "Westwood                    4\n",
       "Brookline                   4\n",
       "Squirrel Hill North         4\n",
       "Beltzhoover                 4\n",
       "Morningside                 4\n",
       "Brighton Heights            4\n",
       "Carrick                     4\n",
       "Regent Square               4\n",
       "Spring Garden               4\n",
       "Mt. Oliver                  3\n",
       "Greenfield                  3\n",
       "Spring Hill-City View       3\n",
       "Polish Hill                 3\n",
       "Hays                        3\n",
       "Beechview                   3\n",
       "Fairywood                   3\n",
       "Arlington Heights           3\n",
       "Squirrel Hill South         3\n",
       "Upper Hill                  3\n",
       "Duquesne Heights            3\n",
       "Oakwood                     3\n",
       "Banksville                  3\n",
       "Mount Washington            3\n",
       "Sheraden                    3"
      ]
     },
     "execution_count": 18,
     "metadata": {},
     "output_type": "execute_result"
    }
   ],
   "source": [
    "# lists\n",
    "zeros = np.zeros(len(neighborhood), dtype = int)\n",
    "nbhds = neighborhood.loc[:,\"Neighborhood\"]\n",
    "\n",
    "# Create a Series from those two lists\n",
    "final_nbhds = pd.Series(zeros, index=nbhds)\n",
    "\n",
    "add_points = best_nbhds_homeownership[\"Neighborhood\"][0:5]\n",
    "final_nbhds.loc[add_points] += 1\n",
    "add_points = best_nbhds_homeownership[\"Neighborhood\"][0:15]\n",
    "final_nbhds.loc[add_points] += 1\n",
    "add_points = best_nbhds_homeownership[\"Neighborhood\"][0:30]\n",
    "final_nbhds.loc[add_points] += 1\n",
    "add_points = best_nbhds_homeownership[\"Neighborhood\"][0:50]\n",
    "final_nbhds.loc[add_points] += 1\n",
    "add_points = best_nbhds_homeownership[\"Neighborhood\"][0:90]\n",
    "final_nbhds.loc[add_points] += 1\n",
    "\n",
    "best_pgh_nbhds = pd.DataFrame(final_nbhds)\n",
    "best_pgh_nbhds.rename(columns = {0:'Points'}, inplace = True)\n",
    "best_pgh_nbhds = best_pgh_nbhds.sort_values(by=[\"Points\"], ascending=False)\n",
    "best_pgh_nbhds.head(30)"
   ]
  },
  {
   "cell_type": "markdown",
   "metadata": {},
   "source": [
    "### Conclusion"
   ]
  },
  {
   "cell_type": "markdown",
   "metadata": {},
   "source": [
    "response 1 (name):"
   ]
  },
  {
   "cell_type": "markdown",
   "metadata": {},
   "source": [
    "response 2 (name):"
   ]
  },
  {
   "cell_type": "code",
   "execution_count": null,
   "metadata": {},
   "outputs": [],
   "source": []
  },
  {
   "cell_type": "markdown",
   "metadata": {},
   "source": [
    "response 3 (name):"
   ]
  },
  {
   "cell_type": "code",
   "execution_count": null,
   "metadata": {},
   "outputs": [],
   "source": []
  },
  {
   "cell_type": "code",
   "execution_count": null,
   "metadata": {},
   "outputs": [],
   "source": []
  }
 ],
 "metadata": {
  "kernelspec": {
   "display_name": "Python 3 (ipykernel)",
   "language": "python",
   "name": "python3"
  },
  "language_info": {
   "codemirror_mode": {
    "name": "ipython",
    "version": 3
   },
   "file_extension": ".py",
   "mimetype": "text/x-python",
   "name": "python",
   "nbconvert_exporter": "python",
   "pygments_lexer": "ipython3",
   "version": "3.10.8"
  }
 },
 "nbformat": 4,
 "nbformat_minor": 4
}
