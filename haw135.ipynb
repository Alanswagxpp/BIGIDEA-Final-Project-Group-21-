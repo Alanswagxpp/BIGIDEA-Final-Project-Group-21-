{
 "cells": [
  {
   "cell_type": "markdown",
   "id": "4c1ade55-2a39-44a2-b42d-c7d2001caf65",
   "metadata": {},
   "source": [
    "# Haoshen's jupyter notebook: Crime Rate/ Public School Number\n",
    "## Introduction: \n",
    "In my part, I analyzed the number of playgrounds in Pittsburgh differnt neighborhood\n",
    "## The Metric\n",
    "The dataset I used is _City of Pittsburgh Playground_ https://data.wprdc.org/dataset/playgrounds"
   ]
  },
  {
   "cell_type": "code",
   "execution_count": 2,
   "id": "5378c3a1-efc5-4400-9214-e632e156df69",
   "metadata": {},
   "outputs": [],
   "source": [
    "#Imports\n",
    "import pandas as pd\n",
    "import numpy as np\n",
    "import math\n",
    "%matplotlib inline\n",
    "import matplotlib.pyplot as plt\n"
   ]
  },
  {
   "cell_type": "markdown",
   "id": "42e3a06c-adfe-47a0-b18d-bfe866a9417a",
   "metadata": {},
   "source": [
    "First, read the original csv file using pandas."
   ]
  },
  {
   "cell_type": "code",
   "execution_count": 4,
   "id": "35dad7e0-dba2-4322-8997-3ec4174afba5",
   "metadata": {},
   "outputs": [
    {
     "data": {
      "text/plain": [
       "0                Beechview\n",
       "1         Crawford-Roberts\n",
       "2        Central Northside\n",
       "3                Beechview\n",
       "4        Bedford Dwellings\n",
       "              ...         \n",
       "120                Carrick\n",
       "121    Upper Lawrenceville\n",
       "122            Beltzhoover\n",
       "123           East Liberty\n",
       "124         East Allegheny\n",
       "Name: neighborhood, Length: 125, dtype: object"
      ]
     },
     "execution_count": 4,
     "metadata": {},
     "output_type": "execute_result"
    }
   ],
   "source": [
    "playground = pd.read_csv(\"Playground.csv\")\n",
    "playground[\"neighborhood\"]"
   ]
  },
  {
   "cell_type": "markdown",
   "id": "fadb81fd-f905-4ffb-957c-b588ac452195",
   "metadata": {},
   "source": [
    "------------------------------------------------------------\n",
    "Then I created a dictionary __myDictionary__ to store only neighborhood coloumn in the generated __playground__ series, and add its number if they are in the same neighborhood"
   ]
  },
  {
   "cell_type": "code",
   "execution_count": 8,
   "id": "d617d447-254c-4ad3-9352-e7123c866d3e",
   "metadata": {},
   "outputs": [
    {
     "data": {
      "text/plain": [
       "{'Beechview': 5,\n",
       " 'Crawford-Roberts': 3,\n",
       " 'Central Northside': 2,\n",
       " 'Bedford Dwellings': 1,\n",
       " 'South Side Slopes': 5,\n",
       " 'South Side Flats': 2,\n",
       " 'Lower Lawrenceville': 1,\n",
       " 'Banksville': 1,\n",
       " 'Homewood North': 1,\n",
       " 'Bon Air': 1,\n",
       " 'Central Oakland': 1,\n",
       " 'Brighton Heights': 2,\n",
       " 'Brookline': 2,\n",
       " 'Hazelwood': 3,\n",
       " 'Squirrel Hill South': 8,\n",
       " 'Spring Garden': 1,\n",
       " 'Lincoln-Lemington-Belmar': 2,\n",
       " 'Windgap': 1,\n",
       " 'Troy Hill': 2,\n",
       " 'Westwood': 1,\n",
       " 'Perry South': 1,\n",
       " 'Homewood West': 1,\n",
       " 'Allegheny Center': 4,\n",
       " 'Strip District': 1,\n",
       " 'Stanton Heights': 1,\n",
       " 'Crafton Heights': 2,\n",
       " 'West Oakland': 1,\n",
       " 'East Carnegie': 1,\n",
       " 'Duquesne Heights': 1,\n",
       " 'East Liberty': 3,\n",
       " 'Esplen': 1,\n",
       " 'Fairywood': 1,\n",
       " 'Highland Park': 4,\n",
       " 'Upper Lawrenceville': 3,\n",
       " 'Fineview': 1,\n",
       " 'Regent Square': 1,\n",
       " 'Garfield': 2,\n",
       " 'Greenfield': 2,\n",
       " 'South Oakland': 3,\n",
       " 'Allentown': 1,\n",
       " 'Hays': 1,\n",
       " 'Elliott': 3,\n",
       " 'Morningside': 2,\n",
       " 'Terrace Village': 1,\n",
       " 'Larimer': 1,\n",
       " 'Carrick': 3,\n",
       " 'Central Lawrenceville': 1,\n",
       " 'Lincoln Place': 2,\n",
       " 'Manchester': 2,\n",
       " 'Marshall-Shadeland': 2,\n",
       " 'Sheraden': 4,\n",
       " 'Beltzhoover': 4,\n",
       " 'Shadyside': 1,\n",
       " 'Mount Washington': 3,\n",
       " 'Oakwood': 1,\n",
       " 'Bloomfield': 2,\n",
       " 'Perry North': 1,\n",
       " 'Upper Hill': 1,\n",
       " 'New Homestead': 1,\n",
       " 'Spring Hill-City View': 1,\n",
       " 'Swisshelm Park': 1,\n",
       " 'Bluff': 1,\n",
       " 'Middle Hill': 1,\n",
       " 'West End': 1,\n",
       " 'Polish Hill': 1,\n",
       " 'Point Breeze North': 1,\n",
       " 'Squirrel Hill North': 1,\n",
       " 'East Allegheny': 1}"
      ]
     },
     "execution_count": 8,
     "metadata": {},
     "output_type": "execute_result"
    }
   ],
   "source": [
    "myDictionary = dict()\n",
    "for i in range(len(playground)):\n",
    "    temp = playground.loc[i,\"neighborhood\"]\n",
    "    if(temp not in myDictionary):\n",
    "       myDictionary[temp] = 1\n",
    "    else:\n",
    "       myDictionary[temp] += 1\n",
    "       \n",
    "# print(myDictionary)\n",
    "myDictionary"
   ]
  },
  {
   "cell_type": "markdown",
   "id": "1b094a07-cbc3-4692-83d8-021461719089",
   "metadata": {},
   "source": [
    "But it is easier for me to plot a graph with Series rather than dictionary. So here I converted this dictionary back to Series."
   ]
  },
  {
   "cell_type": "code",
   "execution_count": 11,
   "id": "bedea792-bc1b-4aba-a59e-8be947e35aed",
   "metadata": {},
   "outputs": [],
   "source": [
    "playGroundSeries = pd.Series(myDictionary, name = \"Fields\")"
   ]
  },
  {
   "cell_type": "markdown",
   "id": "1b9e47e2-2f11-4133-a940-44abc12af149",
   "metadata": {},
   "source": [
    "And since the dataframe is too much, and many of them(neighborhood) only has 1 playground(duplicates). And since we only need the largest number of data, so I decided take the \"top10\" number of playground in Pittsburgh."
   ]
  },
  {
   "cell_type": "code",
   "execution_count": 22,
   "id": "3198cf39-b44f-40f0-9da5-7480cdbd9402",
   "metadata": {},
   "outputs": [],
   "source": [
    "# First sort this series with descending order(Ascending = False)\n",
    "SeriesInDescendingOrder=playGroundSeries.sort_values(ascending=False).head(10)"
   ]
  },
  {
   "cell_type": "code",
   "execution_count": 25,
   "id": "f685d938-4b60-4299-befd-7eb76bcbfbd5",
   "metadata": {},
   "outputs": [
    {
     "data": {
      "text/plain": [
       "<AxesSubplot: >"
      ]
     },
     "execution_count": 25,
     "metadata": {},
     "output_type": "execute_result"
    },
    {
     "data": {
      "image/png": "[encoded data removed]",
      "text/plain": [
       "<Figure size 640x480 with 1 Axes>"
      ]
     },
     "metadata": {},
     "output_type": "display_data"
    }
   ],
   "source": [
    "SeriesInDescendingOrder\n",
    "SeriesInDescendingOrder.plot.bar()"
   ]
  },
  {
   "cell_type": "markdown",
   "id": "f7ca0925-3914-47ce-b03b-a81f6587fe76",
   "metadata": {},
   "source": [
    "From this graph we can easily see the __Squirrel Hill South__ has the most playgrounds, 8 playgrounds, in Pittsburgh area. And __Beechview__, __South Side Slopes__ fllow as the second most"
   ]
  },
  {
   "cell_type": "code",
   "execution_count": null,
   "id": "204a40b6-623e-4679-a511-1f65e6a42735",
   "metadata": {},
   "outputs": [],
   "source": []
  }
 ],
 "metadata": {
  "kernelspec": {
   "display_name": "Python 3 (ipykernel)",
   "language": "python",
   "name": "python3"
  },
  "language_info": {
   "codemirror_mode": {
    "name": "ipython",
    "version": 3
   },
   "file_extension": ".py",
   "mimetype": "text/x-python",
   "name": "python",
   "nbconvert_exporter": "python",
   "pygments_lexer": "ipython3",
   "version": "3.10.8"
  }
 },
 "nbformat": 4,
 "nbformat_minor": 5
}
